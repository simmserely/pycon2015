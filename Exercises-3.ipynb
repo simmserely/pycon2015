{
 "cells": [
  {
   "cell_type": "code",
   "execution_count": 1,
   "metadata": {},
   "outputs": [],
   "source": [
    "%matplotlib inline\n",
    "import pandas as pd"
   ]
  },
  {
   "cell_type": "code",
   "execution_count": 2,
   "metadata": {},
   "outputs": [
    {
     "data": {
      "text/html": [
       "<style>body {\n",
       "    margin: 0;\n",
       "    font-family: Helvetica;\n",
       "}\n",
       "table.dataframe {\n",
       "    border-collapse: collapse;\n",
       "    border: none;\n",
       "}\n",
       "table.dataframe tr {\n",
       "    border: none;\n",
       "}\n",
       "table.dataframe td, table.dataframe th {\n",
       "    margin: 0;\n",
       "    border: 1px solid white;\n",
       "    padding-left: 0.25em;\n",
       "    padding-right: 0.25em;\n",
       "}\n",
       "table.dataframe th:not(:empty) {\n",
       "    background-color: #fec;\n",
       "    text-align: left;\n",
       "    font-weight: normal;\n",
       "}\n",
       "table.dataframe tr:nth-child(2) th:empty {\n",
       "    border-left: none;\n",
       "    border-right: 1px dashed #888;\n",
       "}\n",
       "table.dataframe td {\n",
       "    border: 2px solid #ccf;\n",
       "    background-color: #f4f4ff;\n",
       "}\n",
       "h3 {\n",
       "    color: white;\n",
       "    background-color: black;\n",
       "    padding: 0.5em;\n",
       "}\n",
       "</style>"
      ],
      "text/plain": [
       "<IPython.core.display.HTML object>"
      ]
     },
     "execution_count": 2,
     "metadata": {},
     "output_type": "execute_result"
    }
   ],
   "source": [
    "from IPython.core.display import HTML\n",
    "css = open('style-table.css').read() + open('style-notebook.css').read()\n",
    "HTML('<style>{}</style>'.format(css))"
   ]
  },
  {
   "cell_type": "code",
   "execution_count": 2,
   "metadata": {},
   "outputs": [
    {
     "data": {
      "text/html": [
       "<div>\n",
       "<style scoped>\n",
       "    .dataframe tbody tr th:only-of-type {\n",
       "        vertical-align: middle;\n",
       "    }\n",
       "\n",
       "    .dataframe tbody tr th {\n",
       "        vertical-align: top;\n",
       "    }\n",
       "\n",
       "    .dataframe thead th {\n",
       "        text-align: right;\n",
       "    }\n",
       "</style>\n",
       "<table border=\"1\" class=\"dataframe\">\n",
       "  <thead>\n",
       "    <tr style=\"text-align: right;\">\n",
       "      <th></th>\n",
       "      <th>title</th>\n",
       "      <th>year</th>\n",
       "    </tr>\n",
       "  </thead>\n",
       "  <tbody>\n",
       "    <tr>\n",
       "      <th>0</th>\n",
       "      <td>The Rising Son</td>\n",
       "      <td>1990</td>\n",
       "    </tr>\n",
       "    <tr>\n",
       "      <th>1</th>\n",
       "      <td>The Thousand Plane Raid</td>\n",
       "      <td>1969</td>\n",
       "    </tr>\n",
       "    <tr>\n",
       "      <th>2</th>\n",
       "      <td>The Spider and the Fly</td>\n",
       "      <td>1949</td>\n",
       "    </tr>\n",
       "    <tr>\n",
       "      <th>3</th>\n",
       "      <td>Country</td>\n",
       "      <td>2000</td>\n",
       "    </tr>\n",
       "    <tr>\n",
       "      <th>4</th>\n",
       "      <td>The Golden Note</td>\n",
       "      <td>2017</td>\n",
       "    </tr>\n",
       "  </tbody>\n",
       "</table>\n",
       "</div>"
      ],
      "text/plain": [
       "                     title  year\n",
       "0           The Rising Son  1990\n",
       "1  The Thousand Plane Raid  1969\n",
       "2   The Spider and the Fly  1949\n",
       "3                  Country  2000\n",
       "4          The Golden Note  2017"
      ]
     },
     "execution_count": 2,
     "metadata": {},
     "output_type": "execute_result"
    }
   ],
   "source": [
    "titles = pd.read_csv('data/titles.csv', index_col=None)\n",
    "titles.head()"
   ]
  },
  {
   "cell_type": "code",
   "execution_count": 69,
   "metadata": {},
   "outputs": [
    {
     "data": {
      "text/html": [
       "<div>\n",
       "<style scoped>\n",
       "    .dataframe tbody tr th:only-of-type {\n",
       "        vertical-align: middle;\n",
       "    }\n",
       "\n",
       "    .dataframe tbody tr th {\n",
       "        vertical-align: top;\n",
       "    }\n",
       "\n",
       "    .dataframe thead th {\n",
       "        text-align: right;\n",
       "    }\n",
       "</style>\n",
       "<table border=\"1\" class=\"dataframe\">\n",
       "  <thead>\n",
       "    <tr style=\"text-align: right;\">\n",
       "      <th></th>\n",
       "      <th>title</th>\n",
       "      <th>year</th>\n",
       "      <th>name</th>\n",
       "      <th>type</th>\n",
       "      <th>character</th>\n",
       "      <th>n</th>\n",
       "    </tr>\n",
       "  </thead>\n",
       "  <tbody>\n",
       "    <tr>\n",
       "      <th>0</th>\n",
       "      <td>Closet Monster</td>\n",
       "      <td>2015</td>\n",
       "      <td>Buffy #1</td>\n",
       "      <td>actor</td>\n",
       "      <td>Buffy 4</td>\n",
       "      <td>31.0</td>\n",
       "    </tr>\n",
       "    <tr>\n",
       "      <th>1</th>\n",
       "      <td>Suuri illusioni</td>\n",
       "      <td>1985</td>\n",
       "      <td>Homo $</td>\n",
       "      <td>actor</td>\n",
       "      <td>Guests</td>\n",
       "      <td>22.0</td>\n",
       "    </tr>\n",
       "    <tr>\n",
       "      <th>2</th>\n",
       "      <td>Battle of the Sexes</td>\n",
       "      <td>2017</td>\n",
       "      <td>$hutter</td>\n",
       "      <td>actor</td>\n",
       "      <td>Bobby Riggs Fan</td>\n",
       "      <td>10.0</td>\n",
       "    </tr>\n",
       "    <tr>\n",
       "      <th>3</th>\n",
       "      <td>Secret in Their Eyes</td>\n",
       "      <td>2015</td>\n",
       "      <td>$hutter</td>\n",
       "      <td>actor</td>\n",
       "      <td>2002 Dodger Fan</td>\n",
       "      <td>NaN</td>\n",
       "    </tr>\n",
       "    <tr>\n",
       "      <th>4</th>\n",
       "      <td>Steve Jobs</td>\n",
       "      <td>2015</td>\n",
       "      <td>$hutter</td>\n",
       "      <td>actor</td>\n",
       "      <td>1988 Opera House Patron</td>\n",
       "      <td>NaN</td>\n",
       "    </tr>\n",
       "  </tbody>\n",
       "</table>\n",
       "</div>"
      ],
      "text/plain": [
       "                  title  year      name   type                character     n\n",
       "0        Closet Monster  2015  Buffy #1  actor                  Buffy 4  31.0\n",
       "1       Suuri illusioni  1985    Homo $  actor                   Guests  22.0\n",
       "2   Battle of the Sexes  2017   $hutter  actor          Bobby Riggs Fan  10.0\n",
       "3  Secret in Their Eyes  2015   $hutter  actor          2002 Dodger Fan   NaN\n",
       "4            Steve Jobs  2015   $hutter  actor  1988 Opera House Patron   NaN"
      ]
     },
     "execution_count": 69,
     "metadata": {},
     "output_type": "execute_result"
    }
   ],
   "source": [
    "cast = pd.read_csv('data/cast.csv', index_col=None)\n",
    "cast.head()"
   ]
  },
  {
   "cell_type": "markdown",
   "metadata": {
    "collapsed": true
   },
   "source": [
    "### Using groupby(), plot the number of films that have been released each decade in the history of cinema."
   ]
  },
  {
   "cell_type": "code",
   "execution_count": 7,
   "metadata": {},
   "outputs": [
    {
     "data": {
      "text/plain": [
       "<matplotlib.axes._subplots.AxesSubplot at 0x102babe48>"
      ]
     },
     "execution_count": 7,
     "metadata": {},
     "output_type": "execute_result"
    },
    {
     "data": {
      "image/png": "[encoded data removed]",
      "text/plain": [
       "<Figure size 864x432 with 1 Axes>"
      ]
     },
     "metadata": {
      "needs_background": "light"
     },
     "output_type": "display_data"
    }
   ],
   "source": [
    "t = titles\n",
    "g = t.groupby(t['year'] // 10 * 10).size()\n",
    "g.plot(kind='line', figsize=[12,6])"
   ]
  },
  {
   "cell_type": "markdown",
   "metadata": {
    "collapsed": true
   },
   "source": [
    "### Use groupby() to plot the number of \"Hamlet\" films made each decade."
   ]
  },
  {
   "cell_type": "code",
   "execution_count": 22,
   "metadata": {},
   "outputs": [
    {
     "data": {
      "text/plain": [
       "<matplotlib.axes._subplots.AxesSubplot at 0x10f71b400>"
      ]
     },
     "execution_count": 22,
     "metadata": {},
     "output_type": "execute_result"
    },
    {
     "data": {
      "image/png": "[encoded data removed]",
      "text/plain": [
       "<Figure size 864x432 with 1 Axes>"
      ]
     },
     "metadata": {
      "needs_background": "light"
     },
     "output_type": "display_data"
    }
   ],
   "source": [
    "c = cast[cast.character == 'Hamlet']\n",
    "g = c.groupby([cast.year // 10 * 10])\n",
    "g.size().plot(kind='bar', figsize=[12,6])jj"
   ]
  },
  {
   "cell_type": "markdown",
   "metadata": {
    "collapsed": true
   },
   "source": [
    "### How many leading (n=1) roles were available to actors, and how many to actresses, in each year of the 1950s?"
   ]
  },
  {
   "cell_type": "code",
   "execution_count": 83,
   "metadata": {},
   "outputs": [
    {
     "data": {
      "text/plain": [
       "type\n",
       "actor      7425\n",
       "actress    3342\n",
       "dtype: int64"
      ]
     },
     "execution_count": 83,
     "metadata": {},
     "output_type": "execute_result"
    }
   ],
   "source": [
    "cast[(cast.n == 1) & (cast.year.between(1950,1960))].groupby(['type']).size()\n"
   ]
  },
  {
   "cell_type": "markdown",
   "metadata": {
    "collapsed": true
   },
   "source": [
    "### In the 1950s decade taken as a whole, how many total roles were available to actors, and how many to actresses, for each \"n\" number 1 through 5?"
   ]
  },
  {
   "cell_type": "code",
   "execution_count": 87,
   "metadata": {},
   "outputs": [
    {
     "data": {
      "text/plain": [
       "n    type   \n",
       "1.0  actor      7425\n",
       "     actress    3342\n",
       "2.0  actor      5142\n",
       "     actress    5113\n",
       "3.0  actor      6229\n",
       "     actress    3559\n",
       "4.0  actor      6232\n",
       "     actress    3197\n",
       "5.0  actor      6244\n",
       "     actress    2888\n",
       "6.0  actor      6129\n",
       "     actress    2653\n",
       "dtype: int64"
      ]
     },
     "execution_count": 87,
     "metadata": {},
     "output_type": "execute_result"
    }
   ],
   "source": [
    "roles = cast[(cast.n.between(1,6)) & (cast.year.between(1950,1960))]\n",
    "roles.groupby(['n','type']).size()\n"
   ]
  },
  {
   "cell_type": "markdown",
   "metadata": {
    "collapsed": true
   },
   "source": [
    "### Use groupby() to determine how many roles are listed for each of the Pink Panther movies."
   ]
  },
  {
   "cell_type": "code",
   "execution_count": 114,
   "metadata": {},
   "outputs": [
    {
     "data": {
      "text/plain": [
       "year\n",
       "1963    21\n",
       "2006    90\n",
       "dtype: int64"
      ]
     },
     "execution_count": 114,
     "metadata": {},
     "output_type": "execute_result"
    }
   ],
   "source": [
    "grouped = cast[cast.title == 'The Pink Panther'].groupby('year')\n",
    "grouped.size()"
   ]
  },
  {
   "cell_type": "markdown",
   "metadata": {
    "collapsed": true
   },
   "source": [
    "### List, in order by year, each of the films in which Frank Oz has played more than 1 role."
   ]
  },
  {
   "cell_type": "code",
   "execution_count": 140,
   "metadata": {},
   "outputs": [
    {
     "data": {
      "text/plain": [
       "year  title                               \n",
       "1979  The Muppet Movie                        8\n",
       "1981  The Great Muppet Caper                  6\n",
       "1984  The Muppets Take Manhattan              7\n",
       "1985  Follow That Bird                        3\n",
       "1992  The Muppet Christmas Carol              7\n",
       "1996  Muppet Treasure Island                  4\n",
       "1999  Muppets from Space                      4\n",
       "      The Adventures of Elmo in Grouchland    3\n",
       "dtype: int64"
      ]
     },
     "execution_count": 140,
     "metadata": {},
     "output_type": "execute_result"
    }
   ],
   "source": [
    "grouped = cast[(cast.name == 'Frank Oz')].groupby(['year','title'])\n",
    "grouped2 = grouped.filter(lambda x: x['title'].count() > 2)\n",
    "grouped2.groupby(['year','title']).size()"
   ]
  },
  {
   "cell_type": "code",
   "execution_count": 147,
   "metadata": {},
   "outputs": [
    {
     "data": {
      "text/plain": [
       "year  title                               \n",
       "1979  The Muppet Movie                        8\n",
       "1981  An American Werewolf in London          2\n",
       "      The Great Muppet Caper                  6\n",
       "1982  The Dark Crystal                        2\n",
       "1984  The Muppets Take Manhattan              7\n",
       "1985  Follow That Bird                        3\n",
       "1992  The Muppet Christmas Carol              7\n",
       "1996  Muppet Treasure Island                  4\n",
       "1999  Muppets from Space                      4\n",
       "      The Adventures of Elmo in Grouchland    3\n",
       "dtype: int64"
      ]
     },
     "execution_count": 147,
     "metadata": {},
     "output_type": "execute_result"
    }
   ],
   "source": [
    "grouped = cast[(cast.name == 'Frank Oz')].groupby(['year','title'])\n",
    "group = grouped.size()\n",
    "group[group > 1]"
   ]
  },
  {
   "cell_type": "markdown",
   "metadata": {
    "collapsed": true
   },
   "source": [
    "### List each of the characters that Frank Oz has portrayed at least twice."
   ]
  },
  {
   "cell_type": "code",
   "execution_count": 161,
   "metadata": {},
   "outputs": [
    {
     "data": {
      "text/plain": [
       "character\n",
       "Animal            6\n",
       "Bert              3\n",
       "Cookie Monster    5\n",
       "Fozzie Bear       4\n",
       "Miss Piggy        6\n",
       "Sam the Eagle     5\n",
       "Yoda              6\n",
       "dtype: int64"
      ]
     },
     "execution_count": 161,
     "metadata": {},
     "output_type": "execute_result"
    }
   ],
   "source": [
    "grouped = cast[(cast.name == 'Frank Oz')].groupby(['character'])\n",
    "grouping = grouped.size()\n",
    "grouping[grouping > 2]"
   ]
  },
  {
   "cell_type": "code",
   "execution_count": 162,
   "metadata": {},
   "outputs": [
    {
     "name": "stdout",
     "output_type": "stream",
     "text": [
      "Animal\n",
      "                              title  year      name   type character     n\n",
      "1723611      Muppet Treasure Island  1996  Frank Oz  actor    Animal  14.0\n",
      "1723614          Muppets from Space  1999  Frank Oz  actor    Animal   7.0\n",
      "1723634      The Great Muppet Caper  1981  Frank Oz  actor    Animal   2.0\n",
      "1723641  The Muppet Christmas Carol  1992  Frank Oz  actor    Animal   5.0\n",
      "1723647            The Muppet Movie  1979  Frank Oz  actor    Animal   2.0\n",
      "1723655  The Muppets Take Manhattan  1984  Frank Oz  actor    Animal   2.0\n",
      "Aughra, a Keeper Of Secrets (performer)\n",
      "                    title  year      name   type  \\\n",
      "1723629  The Dark Crystal  1982  Frank Oz  actor   \n",
      "\n",
      "                                       character    n  \n",
      "1723629  Aughra, a Keeper Of Secrets (performer)  3.0  \n",
      "Bert\n",
      "                                        title  year      name   type  \\\n",
      "1723602                      Follow That Bird  1985  Frank Oz  actor   \n",
      "1723625  The Adventures of Elmo in Grouchland  1999  Frank Oz  actor   \n",
      "1723656            The Muppets Take Manhattan  1984  Frank Oz  actor   \n",
      "\n",
      "        character     n  \n",
      "1723602      Bert   3.0  \n",
      "1723625      Bert  16.0  \n",
      "1723656      Bert   2.0  \n",
      "Brain Surgeon\n",
      "                title  year      name   type      character   n\n",
      "1723624  Superman III  1983  Frank Oz  actor  Brain Surgeon NaN\n",
      "Chamberlain (performer)\n",
      "                    title  year      name   type                character    n\n",
      "1723630  The Dark Crystal  1982  Frank Oz  actor  Chamberlain (performer)  3.0\n",
      "Cookie Monster\n",
      "                                          title  year      name   type  \\\n",
      "1723601                        Follow That Bird  1985  Frank Oz  actor   \n",
      "1723616  Sesame Street: C is for Cookie Monster  2010  Frank Oz  actor   \n",
      "1723627    The Adventures of Elmo in Grouchland  1999  Frank Oz  actor   \n",
      "1723631                 The Great Gilly Hopkins  2015  Frank Oz  actor   \n",
      "1723657              The Muppets Take Manhattan  1984  Frank Oz  actor   \n",
      "\n",
      "              character     n  \n",
      "1723601  Cookie Monster   3.0  \n",
      "1723616  Cookie Monster   NaN  \n",
      "1723627  Cookie Monster  16.0  \n",
      "1723631  Cookie Monster  20.0  \n",
      "1723657  Cookie Monster   2.0  \n",
      "Corrections Officer\n",
      "                      title  year      name   type            character     n\n",
      "1723628  The Blues Brothers  1980  Frank Oz  actor  Corrections Officer  21.0\n",
      "Corrupt Cop\n",
      "                  title  year      name   type    character     n\n",
      "1723660  Trading Places  1983  Frank Oz  actor  Corrupt Cop  46.0\n",
      "Doc Hopper's Men\n",
      "                    title  year      name   type         character    n\n",
      "1723649  The Muppet Movie  1979  Frank Oz  actor  Doc Hopper's Men  2.0\n",
      "Fozzie\n",
      "                              title  year      name   type character    n\n",
      "1723654  The Muppets Take Manhattan  1984  Frank Oz  actor    Fozzie  2.0\n",
      "Fozzie Bear\n",
      "                          title  year      name   type    character     n\n",
      "1723609  Muppet Treasure Island  1996  Frank Oz  actor  Fozzie Bear  14.0\n",
      "1723613      Muppets from Space  1999  Frank Oz  actor  Fozzie Bear   7.0\n",
      "1723633  The Great Muppet Caper  1981  Frank Oz  actor  Fozzie Bear   2.0\n",
      "1723646        The Muppet Movie  1979  Frank Oz  actor  Fozzie Bear   2.0\n",
      "Fozzie Bear as Fozziewig\n",
      "                              title  year      name   type  \\\n",
      "1723639  The Muppet Christmas Carol  1992  Frank Oz  actor   \n",
      "\n",
      "                        character    n  \n",
      "1723639  Fozzie Bear as Fozziewig  5.0  \n",
      "Fungus\n",
      "                  title  year      name   type character    n\n",
      "1723607  Monsters, Inc.  2001  Frank Oz  actor    Fungus  9.0\n",
      "George the Janitor\n",
      "                              title  year      name   type  \\\n",
      "1723642  The Muppet Christmas Carol  1992  Frank Oz  actor   \n",
      "\n",
      "                  character    n  \n",
      "1723642  George the Janitor  5.0  \n",
      "Gramps\n",
      "                          title  year      name   type character    n\n",
      "1723636  The Great Muppet Caper  1981  Frank Oz  actor    Gramps  2.0\n",
      "Grover\n",
      "                                        title  year      name   type  \\\n",
      "1723603                      Follow That Bird  1985  Frank Oz  actor   \n",
      "1723626  The Adventures of Elmo in Grouchland  1999  Frank Oz  actor   \n",
      "\n",
      "        character     n  \n",
      "1723603    Grover   3.0  \n",
      "1723626    Grover  16.0  \n",
      "Horse and Carriage Driver\n",
      "                              title  year      name   type  \\\n",
      "1723643  The Muppet Christmas Carol  1992  Frank Oz  actor   \n",
      "\n",
      "                         character    n  \n",
      "1723643  Horse and Carriage Driver  5.0  \n",
      "Marvin Suggs\n",
      "                    title  year      name   type     character    n\n",
      "1723650  The Muppet Movie  1979  Frank Oz  actor  Marvin Suggs  2.0\n",
      "Miss Piggy\n",
      "                                  title  year      name   type   character  \\\n",
      "1723599  An American Werewolf in London  1981  Frank Oz  actor  Miss Piggy   \n",
      "1723608          Muppet Treasure Island  1996  Frank Oz  actor  Miss Piggy   \n",
      "1723612              Muppets from Space  1999  Frank Oz  actor  Miss Piggy   \n",
      "1723632          The Great Muppet Caper  1981  Frank Oz  actor  Miss Piggy   \n",
      "1723645                The Muppet Movie  1979  Frank Oz  actor  Miss Piggy   \n",
      "1723653      The Muppets Take Manhattan  1984  Frank Oz  actor  Miss Piggy   \n",
      "\n",
      "            n  \n",
      "1723599  13.0  \n",
      "1723608  14.0  \n",
      "1723612   7.0  \n",
      "1723632   2.0  \n",
      "1723645   2.0  \n",
      "1723653   2.0  \n",
      "Miss Piggy as Emily Cratchit\n",
      "                              title  year      name   type  \\\n",
      "1723638  The Muppet Christmas Carol  1992  Frank Oz  actor   \n",
      "\n",
      "                            character    n  \n",
      "1723638  Miss Piggy as Emily Cratchit  5.0  \n",
      "Motorcycle Guy\n",
      "                    title  year      name   type       character    n\n",
      "1723652  The Muppet Movie  1979  Frank Oz  actor  Motorcycle Guy  2.0\n",
      "Mr. Collins\n",
      "                                  title  year      name   type    character  \\\n",
      "1723598  An American Werewolf in London  1981  Frank Oz  actor  Mr. Collins   \n",
      "\n",
      "            n  \n",
      "1723598  13.0  \n",
      "Ocean Breeze Soap Board Member\n",
      "                              title  year      name   type  \\\n",
      "1723658  The Muppets Take Manhattan  1984  Frank Oz  actor   \n",
      "\n",
      "                              character    n  \n",
      "1723658  Ocean Breeze Soap Board Member  2.0  \n",
      "Pathologist\n",
      "                  title  year      name   type    character     n\n",
      "1723604  Innocent Blood  1992  Frank Oz  actor  Pathologist  21.0\n",
      "Robot\n",
      "                              title  year      name   type character    n\n",
      "1723661  Zathura: A Space Adventure  2005  Frank Oz  actor     Robot  6.0\n",
      "Sam the Eagle\n",
      "                              title  year      name   type      character  \\\n",
      "1723610      Muppet Treasure Island  1996  Frank Oz  actor  Sam the Eagle   \n",
      "1723615          Muppets from Space  1999  Frank Oz  actor  Sam the Eagle   \n",
      "1723635      The Great Muppet Caper  1981  Frank Oz  actor  Sam the Eagle   \n",
      "1723648            The Muppet Movie  1979  Frank Oz  actor  Sam the Eagle   \n",
      "1723659  The Muppets Take Manhattan  1984  Frank Oz  actor  Sam the Eagle   \n",
      "\n",
      "            n  \n",
      "1723610  14.0  \n",
      "1723615   7.0  \n",
      "1723635   2.0  \n",
      "1723648   2.0  \n",
      "1723659   2.0  \n",
      "Sam the Eagle as Headmaster of Junior High Graduates\n",
      "                              title  year      name   type  \\\n",
      "1723640  The Muppet Christmas Carol  1992  Frank Oz  actor   \n",
      "\n",
      "                                                 character    n  \n",
      "1723640  Sam the Eagle as Headmaster of Junior High Gra...  5.0  \n",
      "Subconscious Guard Dave\n",
      "              title  year      name   type                character     n\n",
      "1723605  Inside Out  2015  Frank Oz  actor  Subconscious Guard Dave  14.0\n",
      "Swedish Chef\n",
      "                          title  year      name   type     character    n\n",
      "1723637  The Great Muppet Caper  1981  Frank Oz  actor  Swedish Chef  2.0\n",
      "Swedish Chef (assistant)\n",
      "                    title  year      name   type                 character  \\\n",
      "1723651  The Muppet Movie  1979  Frank Oz  actor  Swedish Chef (assistant)   \n",
      "\n",
      "           n  \n",
      "1723651  2.0  \n",
      "Test Monitor\n",
      "                 title  year      name   type     character    n\n",
      "1723617  Spies Like Us  1985  Frank Oz  actor  Test Monitor  9.0\n",
      "The Wiseman\n",
      "             title  year      name   type    character     n\n",
      "1723606  Labyrinth  1986  Frank Oz  actor  The Wiseman  17.0\n",
      "Vegetable Salesman\n",
      "                              title  year      name   type  \\\n",
      "1723644  The Muppet Christmas Carol  1992  Frank Oz  actor   \n",
      "\n",
      "                  character    n  \n",
      "1723644  Vegetable Salesman  5.0  \n",
      "Warden\n",
      "                       title  year      name   type character    n\n",
      "1723600  Blues Brothers 2000  1998  Frank Oz  actor    Warden  4.0\n",
      "Yoda\n",
      "                                                  title  year      name  \\\n",
      "1723618       Star Wars: Episode I - The Phantom Menace  1999  Frank Oz   \n",
      "1723619    Star Wars: Episode II - Attack of the Clones  2002  Frank Oz   \n",
      "1723620    Star Wars: Episode III - Revenge of the Sith  2005  Frank Oz   \n",
      "1723621  Star Wars: Episode V - The Empire Strikes Back  1980  Frank Oz   \n",
      "1723622      Star Wars: Episode VI - Return of the Jedi  1983  Frank Oz   \n",
      "1723623      Star Wars: Episode VII - The Force Awakens  2015  Frank Oz   \n",
      "\n",
      "          type character     n  \n",
      "1723618  actor      Yoda  12.0  \n",
      "1723619  actor      Yoda   6.0  \n",
      "1723620  actor      Yoda   7.0  \n",
      "1723621  actor      Yoda   9.0  \n",
      "1723622  actor      Yoda   9.0  \n",
      "1723623  actor      Yoda   NaN  \n"
     ]
    }
   ],
   "source": [
    "for name, group in grouped:\n",
    "    print(name)\n",
    "    print(group)"
   ]
  },
  {
   "cell_type": "code",
   "execution_count": null,
   "metadata": {},
   "outputs": [],
   "source": []
  }
 ],
 "metadata": {
  "kernelspec": {
   "display_name": "Python 3",
   "language": "python",
   "name": "python3"
  },
  "language_info": {
   "codemirror_mode": {
    "name": "ipython",
    "version": 3
   },
   "file_extension": ".py",
   "mimetype": "text/x-python",
   "name": "python",
   "nbconvert_exporter": "python",
   "pygments_lexer": "ipython3",
   "version": "3.7.0"
  }
 },
 "nbformat": 4,
 "nbformat_minor": 1
}
